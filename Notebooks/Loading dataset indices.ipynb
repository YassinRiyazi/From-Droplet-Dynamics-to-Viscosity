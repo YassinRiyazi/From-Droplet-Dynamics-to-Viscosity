{
 "cells": [
  {
   "cell_type": "code",
   "execution_count": null,
   "id": "62c47162",
   "metadata": {},
   "outputs": [],
   "source": [
    "import numpy as np\n",
    "from typing import Tuple, Union, Optional\n",
    "\n"
   ]
  },
  {
   "cell_type": "code",
   "execution_count": 2,
   "id": "b543fb60",
   "metadata": {},
   "outputs": [],
   "source": [
    "import sys\n",
    "import os\n",
    "sys.path.append(\"/home/d2u25/Desktop/Main/Projects/Viscosity/P2NeuralNetwork/Nphase4_AutoEncoder\")\n",
    "import dataset as DSS\n",
    "\n",
    "import pickle"
   ]
  },
  {
   "cell_type": "code",
   "execution_count": null,
   "id": "e6139184",
   "metadata": {},
   "outputs": [],
   "source": [
    "# DSS.DaughterFolderDataset([\"/media/d2u25/Dont/frames_Process_30_PINN/280/S2-SNr2.1_D/T528_01_0.017002132970\"],\n",
    "#                           seq_len=10,stride=4, extension='.pkl')\n"
   ]
  },
  {
   "cell_type": "code",
   "execution_count": 46,
   "id": "82a081e9",
   "metadata": {},
   "outputs": [],
   "source": [
    "foldersDic = DSS.DaughterFolderDataset.loadAddresses([\"/media/d2u25/Dont/frames_Process_30_PINN/280/S2-SNr2.1_D/T528_01_0.017002132970\",\n",
    "                                                      \"/media/d2u25/Dont/frames_Process_30_PINN/310/S3-80Per_D/T506_07_0.255031127386\"],'.pkl')"
   ]
  },
  {
   "cell_type": "code",
   "execution_count": null,
   "id": "9ba0c0c4",
   "metadata": {},
   "outputs": [],
   "source": []
  },
  {
   "cell_type": "code",
   "execution_count": 47,
   "id": "73f9807b",
   "metadata": {},
   "outputs": [],
   "source": [
    "vv = loadOrderedPickles(foldersDic)"
   ]
  },
  {
   "cell_type": "code",
   "execution_count": 54,
   "id": "6cd60ba3",
   "metadata": {},
   "outputs": [
    {
     "data": {
      "text/plain": [
       "numpy.ndarray"
      ]
     },
     "execution_count": 54,
     "metadata": {},
     "output_type": "execute_result"
    }
   ],
   "source": [
    "type(vv[1][1])"
   ]
  },
  {
   "cell_type": "code",
   "execution_count": null,
   "id": "556059bc",
   "metadata": {},
   "outputs": [],
   "source": [
    "\n",
    "import matplotlib.pyplot as plt\n",
    "plt.scatter(x,y,)\n",
    "plt.scatter(aray[:,0], aray[:,1], color='red', s=1)\n",
    "plt.show()"
   ]
  }
 ],
 "metadata": {
  "kernelspec": {
   "display_name": "torch3.11",
   "language": "python",
   "name": "python3"
  },
  "language_info": {
   "codemirror_mode": {
    "name": "ipython",
    "version": 3
   },
   "file_extension": ".py",
   "mimetype": "text/x-python",
   "name": "python",
   "nbconvert_exporter": "python",
   "pygments_lexer": "ipython3",
   "version": "3.11.13"
  }
 },
 "nbformat": 4,
 "nbformat_minor": 5
}
